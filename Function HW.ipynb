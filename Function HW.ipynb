{
 "cells": [
  {
   "cell_type": "code",
   "execution_count": 12,
   "id": "483cf069",
   "metadata": {},
   "outputs": [],
   "source": [
    "def special_Mulitplication(String):\n",
    "    i=0\n",
    "    while i < len(String):\n",
    "        print((i+1)*String[i],end = '')\n",
    "        i+=1"
   ]
  },
  {
   "cell_type": "code",
   "execution_count": 13,
   "id": "3029ec39",
   "metadata": {},
   "outputs": [
    {
     "name": "stdout",
     "output_type": "stream",
     "text": [
      "ommaaarrrr"
     ]
    }
   ],
   "source": [
    "special_Mulitplication(\"omar\")\n"
   ]
  },
  {
   "cell_type": "code",
   "execution_count": 14,
   "id": "e0f18cb7",
   "metadata": {},
   "outputs": [],
   "source": [
    "def compute_Max(a,b,c):\n",
    "    return max(a,b,c)\n",
    "\n",
    "def Max1(a,b):\n",
    "    return max(a,b)\n",
    "\n",
    "def Max2 (a,b):\n",
    "    return max(a,b)\n",
    "\n",
    "def Max3 (a,b):\n",
    "    return max(a,b)"
   ]
  },
  {
   "cell_type": "code",
   "execution_count": 15,
   "id": "eb48bf4f",
   "metadata": {},
   "outputs": [
    {
     "name": "stdout",
     "output_type": "stream",
     "text": [
      "Enter 1st number1\n",
      "Enter 2nd number2\n",
      "Enter 3rd number3\n",
      "Enter 4th number4\n",
      "Enter 5th number5\n",
      "Enter 6th number6\n",
      "6\n"
     ]
    }
   ],
   "source": [
    "num1=int(input(\"Enter 1st number\"))\n",
    "num2=int(input(\"Enter 2nd number\"))\n",
    "num3=int(input(\"Enter 3rd number\"))\n",
    "num4=int(input(\"Enter 4th number\"))\n",
    "num5=int(input(\"Enter 5th number\"))\n",
    "num6=int(input(\"Enter 6th number\"))\n",
    "\n",
    "x=Max1(num1,num2)\n",
    "y=Max2(num3,num4)\n",
    "z=Max3(num5,num6)\n",
    "\n",
    "print(compute_Max(x,y,z))"
   ]
  },
  {
   "cell_type": "code",
   "execution_count": null,
   "id": "cae02480",
   "metadata": {},
   "outputs": [],
   "source": [
    "def isprime(num):\n",
    "    if num==2 or num==3:\n",
    "        return True\n",
    "    if num%2==0 or num<2:\n",
    "        return False\n",
    "    for n in range(3,int(num**0.5)+1,2):   \n",
    "        if num%n==0:\n",
    "            return False   \n",
    "    return True\n",
    "\n",
    "#y=isPrime()\n",
    "num = n\n",
    "prim_numbrs = [2, 3]\n",
    "x = 3\n",
    "if(0 < num < 3):\n",
    "    print('The above given nth Prime Number is =', prim_numbrs[num-1])\n",
    "elif(num > 2):\n",
    "    while (True):\n",
    "        x += 1\n",
    "        y = True\n",
    "        for itr in range(2, int(x/2)+1):\n",
    "            if(x % itr == 0):\n",
    "                y = False\n",
    "                break\n",
    "        if(y == True):\n",
    "            prim_numbrs.append(x)\n",
    "        if(len(prim_numbrs) == num):\n",
    "            break\n",
    "    print('The above given nth Prime Number is = ', prim_numbrs[num-1])\n",
    "else:\n",
    "    print(\"Invalid number. Please enter another number \")\n",
    "    "
   ]
  },
  {
   "cell_type": "code",
   "execution_count": null,
   "id": "626b61d8",
   "metadata": {},
   "outputs": [],
   "source": []
  },
  {
   "cell_type": "code",
   "execution_count": null,
   "id": "f61e7391",
   "metadata": {},
   "outputs": [],
   "source": []
  },
  {
   "cell_type": "code",
   "execution_count": null,
   "id": "77d7e7c3",
   "metadata": {},
   "outputs": [],
   "source": []
  }
 ],
 "metadata": {
  "kernelspec": {
   "display_name": "Python 3 (ipykernel)",
   "language": "python",
   "name": "python3"
  },
  "language_info": {
   "codemirror_mode": {
    "name": "ipython",
    "version": 3
   },
   "file_extension": ".py",
   "mimetype": "text/x-python",
   "name": "python",
   "nbconvert_exporter": "python",
   "pygments_lexer": "ipython3",
   "version": "3.9.12"
  }
 },
 "nbformat": 4,
 "nbformat_minor": 5
}
