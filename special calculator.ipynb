{
 "cells": [
  {
   "cell_type": "code",
   "execution_count": 1,
   "id": "34cac088",
   "metadata": {},
   "outputs": [
    {
     "name": "stdout",
     "output_type": "stream",
     "text": [
      "Enter Number of operation\n",
      "1 for getting the factorial of the num\n",
      "2 for enter your own simple expression\n",
      "3 to end the program\n",
      "1\n",
      "Enter the number you want to get its factorial!: 15\n",
      "The factorial of 15 is 1307674368000\n"
     ]
    }
   ],
   "source": [
    "import math\n",
    "def add(x, y):\n",
    "    return x + y\n",
    "def subtract(x, y):\n",
    "    return x - y\n",
    "def multiply(x, y):\n",
    "    return x * y\n",
    "def divide(x, y):\n",
    "    return x / y\n",
    "def exponent(x,y):\n",
    "    return x**y\n",
    "def factorial() :\n",
    "    factor=1\n",
    "    number=int(input(\"Enter the number you want to get its factorial!: \"))\n",
    "    if number < 0:\n",
    "        print(\"Sorry, factorial does not exist for negative numbers\")\n",
    "    elif number == 0:\n",
    "        print(\"The factorial of 0 is 1\")\n",
    "    else:\n",
    "        for i in range(1,number + 1):\n",
    "            factor = factor*i\n",
    "        print(\"The factorial of\",number,\"is\",factor)\n",
    "\n",
    "inp=int(input(\"Enter Number of operation\\n1 for getting the factorial of the num\\n2 for enter your own simple expression\\n3 to end the program\\n\"))\n",
    "\n",
    "def calc():\n",
    "    if (inp==1):\n",
    "        factorial()\n",
    "    elif (inp==2) :\n",
    "        choice = input(\"Enter choice(1/2/3/4/5): \")\n",
    "        if choice in ('1', '2', '3', '4','5'):\n",
    "            num1 = float(input(\"Enter first number: \"))\n",
    "            num2 = float(input(\"Enter second number: \"))\n",
    "\n",
    "            if choice == '1':\n",
    "                print(num1, \"+\", num2, \"=\", add(num1, num2))\n",
    "\n",
    "            elif choice == '2':\n",
    "                print(num1, \"-\", num2, \"=\", subtract(num1, num2))\n",
    "\n",
    "            elif choice == '3':\n",
    "                print(num1, \"*\", num2, \"=\", multiply(num1, num2))\n",
    "\n",
    "            elif choice == '4':\n",
    "                print(num1, \"/\", num2, \"=\", divide(num1, num2))\n",
    "                \n",
    "            elif choice == '5':\n",
    "                print(num1, \"**\", num2, \"=\", exponent(num1, num2))    \n",
    "    elif (inp==3):\n",
    "        return quit()\n",
    "\n",
    "    else: print(\"invalid input , choose valid operation\")\n",
    "        \n",
    "\n",
    "calc()"
   ]
  },
  {
   "cell_type": "code",
   "execution_count": null,
   "id": "f6b6f584",
   "metadata": {},
   "outputs": [],
   "source": []
  }
 ],
 "metadata": {
  "kernelspec": {
   "display_name": "Python 3 (ipykernel)",
   "language": "python",
   "name": "python3"
  },
  "language_info": {
   "codemirror_mode": {
    "name": "ipython",
    "version": 3
   },
   "file_extension": ".py",
   "mimetype": "text/x-python",
   "name": "python",
   "nbconvert_exporter": "python",
   "pygments_lexer": "ipython3",
   "version": "3.9.12"
  }
 },
 "nbformat": 4,
 "nbformat_minor": 5
}
