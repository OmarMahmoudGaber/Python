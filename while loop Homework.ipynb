{
 "cells": [
  {
   "cell_type": "code",
   "execution_count": 5,
   "id": "37b7c683",
   "metadata": {},
   "outputs": [
    {
     "name": "stdout",
     "output_type": "stream",
     "text": [
      "Enter satrting number:-3\n",
      "Enter ending number:-7\n"
     ]
    }
   ],
   "source": [
    "# print range\n",
    "\n",
    "x= int(input(\"Enter satrting number:-\"))\n",
    "y= int(input(\"Enter ending number:-\"))"
   ]
  },
  {
   "cell_type": "code",
   "execution_count": 6,
   "id": "49a97ead",
   "metadata": {},
   "outputs": [
    {
     "name": "stdout",
     "output_type": "stream",
     "text": [
      "3\n",
      "4\n",
      "5\n",
      "6\n",
      "7\n"
     ]
    }
   ],
   "source": [
    "while x<=y :\n",
    "    print(x)\n",
    "    x+=1"
   ]
  },
  {
   "cell_type": "code",
   "execution_count": 14,
   "id": "e17cdf63",
   "metadata": {},
   "outputs": [
    {
     "name": "stdout",
     "output_type": "stream",
     "text": [
      "Enter integer number:-5\n",
      "Enter string to be repeated:-Hi\n"
     ]
    }
   ],
   "source": [
    "# repeat me\n",
    "\n",
    "N =int(input(\"Enter integer number:-\"))\n",
    "S = input(\"Enter string to be repeated:-\")"
   ]
  },
  {
   "cell_type": "code",
   "execution_count": 15,
   "id": "bdfaae2a",
   "metadata": {},
   "outputs": [
    {
     "name": "stdout",
     "output_type": "stream",
     "text": [
      "HiHiHiHiHi"
     ]
    }
   ],
   "source": [
    "i=0\n",
    "while i!= N:\n",
    "    print(S,end = '')\n",
    "    i+=1\n",
    "    "
   ]
  },
  {
   "cell_type": "code",
   "execution_count": 18,
   "id": "9a683535",
   "metadata": {},
   "outputs": [
    {
     "name": "stdout",
     "output_type": "stream",
     "text": [
      "Enter integer number:-5\n"
     ]
    }
   ],
   "source": [
    "#Print face down left angled triangle\n",
    "\n",
    "n =int(input(\"Enter integer number:-\"))\n"
   ]
  },
  {
   "cell_type": "code",
   "execution_count": 19,
   "id": "ac3a2653",
   "metadata": {},
   "outputs": [
    {
     "name": "stdout",
     "output_type": "stream",
     "text": [
      "*****\n",
      "****\n",
      "***\n",
      "**\n",
      "*\n"
     ]
    }
   ],
   "source": [
    "\n",
    "while n!=0 :\n",
    "    print(n*\"*\")\n",
    "    n-=1"
   ]
  },
  {
   "cell_type": "code",
   "execution_count": 40,
   "id": "a8b44045",
   "metadata": {},
   "outputs": [
    {
     "name": "stdout",
     "output_type": "stream",
     "text": [
      "Enter integer number:-6\n"
     ]
    }
   ],
   "source": [
    "# Special Average\n",
    "\n",
    "num =int(input(\"Enter integer number:-\"))\n"
   ]
  },
  {
   "cell_type": "code",
   "execution_count": 44,
   "id": "168ee14b",
   "metadata": {},
   "outputs": [
    {
     "name": "stdout",
     "output_type": "stream",
     "text": [
      "Enter number:-10\n",
      "Enter number:-100\n",
      "Enter number:-20\n",
      "Enter number:-200\n",
      "Enter number:-30\n",
      "Enter number:-600\n"
     ]
    }
   ],
   "source": [
    "List=[]\n",
    "index=0\n",
    "even_sum,even_counter, odd_sum,odd_counter=0,0,0,0\n",
    "while index!=num:\n",
    "    List.append(int(input(\"Enter number:-\")))\n",
    "    if index%2== 0:\n",
    "        even_sum+=List[index]\n",
    "        even_counter+=1\n",
    "    elif index %2 == 1:\n",
    "        odd_sum+=List[index]\n",
    "        odd_counter+=1\n",
    "    index +=1\n",
    "    "
   ]
  },
  {
   "cell_type": "code",
   "execution_count": 45,
   "id": "3fff3000",
   "metadata": {},
   "outputs": [
    {
     "name": "stdout",
     "output_type": "stream",
     "text": [
      "20.0 300.0\n"
     ]
    }
   ],
   "source": [
    "print(even_sum/even_counter,odd_sum/odd_counter)"
   ]
  },
  {
   "cell_type": "code",
   "execution_count": null,
   "id": "5d5c9d47",
   "metadata": {},
   "outputs": [],
   "source": []
  }
 ],
 "metadata": {
  "kernelspec": {
   "display_name": "Python 3 (ipykernel)",
   "language": "python",
   "name": "python3"
  },
  "language_info": {
   "codemirror_mode": {
    "name": "ipython",
    "version": 3
   },
   "file_extension": ".py",
   "mimetype": "text/x-python",
   "name": "python",
   "nbconvert_exporter": "python",
   "pygments_lexer": "ipython3",
   "version": "3.9.12"
  }
 },
 "nbformat": 4,
 "nbformat_minor": 5
}
